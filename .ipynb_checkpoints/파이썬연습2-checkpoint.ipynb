{
 "cells": [
  {
   "cell_type": "markdown",
   "metadata": {},
   "source": [
    "# 거북이 그래픽 모듈"
   ]
  },
  {
   "cell_type": "code",
   "execution_count": 3,
   "metadata": {},
   "outputs": [],
   "source": [
    "import turtle as t\n",
    "t.shape(\"turtle\")"
   ]
  },
  {
   "cell_type": "code",
   "execution_count": 4,
   "metadata": {},
   "outputs": [],
   "source": [
    "t.forward(50)"
   ]
  },
  {
   "cell_type": "code",
   "execution_count": 5,
   "metadata": {},
   "outputs": [],
   "source": [
    "t.right(90)\n",
    "t.forward(50)"
   ]
  },
  {
   "cell_type": "code",
   "execution_count": 6,
   "metadata": {},
   "outputs": [],
   "source": [
    "t.reset()\n",
    "\n",
    "# 삼각형 그리기\n",
    "t.color(\"red\") # 펜 색상을 바꿔줌\n",
    "t.forward(100)\n",
    "t.left(120) # 왼쪽으로 120도 \"회전\"\n",
    "t.forward(100) #앞으로 100만큼\n",
    "t.left(120) \n",
    "t.forward(100)\n",
    "t.left(120)\n",
    "\n",
    "# 360/3 = 120 이므로 120도 회전시킴"
   ]
  },
  {
   "cell_type": "code",
   "execution_count": 7,
   "metadata": {},
   "outputs": [],
   "source": [
    "# t.reset()\n",
    "\n",
    "#사각형 그리기\n",
    "t.color(\"green\")\n",
    "t.pensize(3) # 펜 굵기를 3으로 바꿈\n",
    "t.forward(100)\n",
    "t.left(90) # 90도 회전\n",
    "t.forward(100)\n",
    "t.left(90)\n",
    "t.forward(100)\n",
    "t.left(90)\n",
    "t.forward(100)\n",
    "t.left(90)"
   ]
  },
  {
   "cell_type": "code",
   "execution_count": 8,
   "metadata": {},
   "outputs": [],
   "source": [
    "# t.reset()\n",
    "\n",
    "# 원 그리기\n",
    "t.color(\"blue\")\n",
    "t.pensize(5)\n",
    "t.circle(50) #반지름이 50인 원을 그린다"
   ]
  },
  {
   "cell_type": "markdown",
   "metadata": {},
   "source": [
    "## 반복 기능으로 도형 그리는 프로그램"
   ]
  },
  {
   "cell_type": "code",
   "execution_count": 9,
   "metadata": {},
   "outputs": [],
   "source": [
    "t.reset()\n",
    "\n",
    "#삼각형 그리기\n",
    "for i in range(3):\n",
    "    t.forward(100)\n",
    "    t.left(120)\n",
    "    \n",
    "#사각형 그리기\n",
    "for i in range(4):\n",
    "    t.forward(100)\n",
    "    t.left(90)\n",
    "    \n",
    "#원그리기\n",
    "t.circle(50)"
   ]
  },
  {
   "cell_type": "markdown",
   "metadata": {},
   "source": [
    "### 거북이 그래픽 모듈 함수\n",
    "\n",
    "- forward(거리)\n",
    "- backward(거리)\n",
    "- left(각도)\n",
    "- right(각도)\n",
    "- circle(반지름)\n",
    "- pendown() : 펜꼬리를 내림\n",
    "- penup() : 펜꼬리 올림\n",
    "- shape(\"모양\") : 거북이 모양을 바꿈\n",
    "                -> turtle:거북이, arrow:화살표, classic,triangle 등\n",
    "- speed(속도)\n",
    "- pensize(펜굵기)\n",
    "- color(\"펜색\")\n",
    "- bgcolor(\"화면 배경색\")\n",
    "- fillcolor(\"도형 내부를 칠할 색\")\n",
    "- begin_fill() : 도형내부 색칠할 준비\n",
    "- end_fill() : 도형내부 색칠\n",
    "- showturtle() : 거북이를 화면에 표시\n",
    "- hideturtle() : 거북이를 화면에서 가림\n",
    "- clear() : 거북이는 두고 화면을 지움\n",
    "- reset() : 거북이와 화면 모두 지움"
   ]
  },
  {
   "cell_type": "code",
   "execution_count": 10,
   "metadata": {},
   "outputs": [],
   "source": [
    "t.reset()\n",
    "\n",
    "# 정오각형 그리는 프로그램\n",
    "n = 5 # 변의 갯수\n",
    "t.color(\"purple\")\n",
    "t.begin_fill()\n",
    "for i in range(n):\n",
    "    t.forward(50)\n",
    "    t.left(360/n)\n",
    "t.end_fill()"
   ]
  },
  {
   "cell_type": "code",
   "execution_count": 11,
   "metadata": {},
   "outputs": [],
   "source": [
    "t.reset()\n",
    "\n",
    "#원을 반복해서 그리는 프로그램\n",
    "n = 50 #원을 그릴 갯수\n",
    "t.bgcolor(\"black\")\n",
    "t.color(\"green\") # 펜 색을 녹색으로\n",
    "t.speed(0) #속도를 가장빠르게 지정\n",
    "for i in range(n):\n",
    "    t.circle(80)\n",
    "    t.left(360/n) # 거북이가 360/n만큼 왼쪽으로 회전"
   ]
  },
  {
   "cell_type": "code",
   "execution_count": 12,
   "metadata": {},
   "outputs": [],
   "source": [
    "t.reset()\n",
    "\n",
    "#선을 반복해서 그리는 프로그램\n",
    "angle = 89 #거북이가 왼쪽으로 회전할 각도\n",
    "t.bgcolor(\"black\")\n",
    "t.color(\"yellow\")\n",
    "t.speed(0)\n",
    "for i in range(200):\n",
    "    t.forward(i)\n",
    "    t.left(angle)"
   ]
  },
  {
   "cell_type": "markdown",
   "metadata": {},
   "source": [
    "## 마음대로 걷는 거북이"
   ]
  },
  {
   "cell_type": "code",
   "execution_count": 13,
   "metadata": {},
   "outputs": [],
   "source": [
    "t.reset()\n",
    "\n",
    "#마음대로 걷는 거북이1\n",
    "import random \n",
    "t.bgcolor(\"white\")\n",
    "t.color(\"black\")\n",
    "t.shape(\"turtle\")\n",
    "t.speed(0)\n",
    "\n",
    "for i in range(500): #거북이를 500번 움직임\n",
    "    a = random.randint(1, 360) #1~360에서 아무 수나 골라서 a에 저장\n",
    "    t.setheading(a) # 거북이 방향을 a각도로 돌림\n",
    "    t.forward(10)\n",
    "\n",
    "# random.randint(a,b) : a이상 b이하 인 랜덤정수 발생"
   ]
  },
  {
   "cell_type": "code",
   "execution_count": 14,
   "metadata": {},
   "outputs": [],
   "source": [
    "t.reset()\n",
    "\n",
    "#마음대로 걷는 거북이2\n",
    "t.speed(0)\n",
    "\n",
    "for i in range(500):\n",
    "    a = random.randint(1,360)\n",
    "    t.setheading(a)\n",
    "    b = random.randint(1,20) \n",
    "    t.forward(b)"
   ]
  },
  {
   "cell_type": "code",
   "execution_count": null,
   "metadata": {},
   "outputs": [],
   "source": []
  }
 ],
 "metadata": {
  "kernelspec": {
   "display_name": "Python 3",
   "language": "python",
   "name": "python3"
  },
  "language_info": {
   "codemirror_mode": {
    "name": "ipython",
    "version": 3
   },
   "file_extension": ".py",
   "mimetype": "text/x-python",
   "name": "python",
   "nbconvert_exporter": "python",
   "pygments_lexer": "ipython3",
   "version": "3.7.0"
  }
 },
 "nbformat": 4,
 "nbformat_minor": 2
}
